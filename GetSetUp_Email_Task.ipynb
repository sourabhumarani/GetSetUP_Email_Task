{
  "nbformat": 4,
  "nbformat_minor": 0,
  "metadata": {
    "colab": {
      "provenance": [],
      "authorship_tag": "ABX9TyNzPBvWbKDuiqZGYJejDSwW",
      "include_colab_link": true
    },
    "kernelspec": {
      "name": "python3",
      "display_name": "Python 3"
    },
    "language_info": {
      "name": "python"
    }
  },
  "cells": [
    {
      "cell_type": "markdown",
      "metadata": {
        "id": "view-in-github",
        "colab_type": "text"
      },
      "source": [
        "<a href=\"https://colab.research.google.com/github/sourabhumarani/GetSetUP_Email_Task/blob/main/GetSetUp_Email_Task.ipynb\" target=\"_parent\"><img src=\"https://colab.research.google.com/assets/colab-badge.svg\" alt=\"Open In Colab\"/></a>"
      ]
    },
    {
      "cell_type": "markdown",
      "source": [
        "## **Email Address Verification**"
      ],
      "metadata": {
        "id": "iKDhvjJovLLM"
      }
    },
    {
      "cell_type": "code",
      "execution_count": 25,
      "metadata": {
        "id": "8MO6Dj-htO3I"
      },
      "outputs": [],
      "source": [
        "#importing required libraries\n",
        "import re  #importing re (regular expression for writing email format condition)\n",
        "import pandas as pd   #importing pandas for datafram manipulation\n"
      ]
    },
    {
      "cell_type": "code",
      "source": [
        "#import and make a copy of main data set\n",
        "df_main = pd.read_csv(\"https://raw.githubusercontent.com/sourabhumarani/GetSetUP_Email_Task/main/Sourabh_Task_Email_List_-_%20Sheet1.csv\")\n",
        "df = df_main.copy()\n",
        "df.isnull().sum()   #checking if any missing values"
      ],
      "metadata": {
        "colab": {
          "base_uri": "https://localhost:8080/"
        },
        "id": "xT3u2L00umWF",
        "outputId": "438bfc6a-853d-4c2c-b4d1-f5517c06b620"
      },
      "execution_count": 26,
      "outputs": [
        {
          "output_type": "execute_result",
          "data": {
            "text/plain": [
              "EMAIL           0\n",
              "ADDRESS2LINE    0\n",
              "CITY            0\n",
              "STATE           0\n",
              "ZIP             0\n",
              "ZIP4            0\n",
              "dtype: int64"
            ]
          },
          "metadata": {},
          "execution_count": 26
        }
      ]
    },
    {
      "cell_type": "code",
      "source": [
        "df.info()"
      ],
      "metadata": {
        "colab": {
          "base_uri": "https://localhost:8080/"
        },
        "id": "bEkQlPoUwbkT",
        "outputId": "dd7b1928-c080-432e-9333-9828b7a1de5f"
      },
      "execution_count": 27,
      "outputs": [
        {
          "output_type": "stream",
          "name": "stdout",
          "text": [
            "<class 'pandas.core.frame.DataFrame'>\n",
            "RangeIndex: 99 entries, 0 to 98\n",
            "Data columns (total 6 columns):\n",
            " #   Column        Non-Null Count  Dtype \n",
            "---  ------        --------------  ----- \n",
            " 0   EMAIL         99 non-null     object\n",
            " 1   ADDRESS2LINE  99 non-null     object\n",
            " 2   CITY          99 non-null     object\n",
            " 3   STATE         99 non-null     object\n",
            " 4   ZIP           99 non-null     int64 \n",
            " 5   ZIP4          99 non-null     int64 \n",
            "dtypes: int64(2), object(4)\n",
            "memory usage: 4.8+ KB\n"
          ]
        }
      ]
    },
    {
      "cell_type": "code",
      "source": [
        "#with the re library, writing an Email Format conditions\n",
        "email_format = r\"^[a-zA-Z0-9]+[\\._]?[a-z A-Z 0-9]+[\\._]?[@][a-zA-Z0-9]+\\.[a-zA-Z0-9]+[\\._]?[a-z]{1,3}$\"\n",
        "\n",
        "#checking if email addresses in the EMAIL column is matching with the our Email Format\n",
        "df['Bounce/Valid'] = None  #creating column to assing if the email is Bounce or Valid\n",
        "for i in range(len(df)):\n",
        "  if re.search(email_format,df['EMAIL'][i]):\n",
        "    df['Bounce/Valid'][i] = 'valid'\n",
        "  else:\n",
        "      df['Bounce/Valid'][i] = 'bounce'"
      ],
      "metadata": {
        "id": "5z2DCMiBuwyp"
      },
      "execution_count": null,
      "outputs": []
    },
    {
      "cell_type": "code",
      "source": [
        "#exporting the data sheet with newly added column indicating if the email is bounce or valid\n",
        "df.to_csv(\"Verified_Email_Data.csv\")"
      ],
      "metadata": {
        "id": "B6zGdC0HuzSR"
      },
      "execution_count": 29,
      "outputs": []
    },
    {
      "cell_type": "markdown",
      "source": [
        "## **Creating Cohort by ZIP Code**"
      ],
      "metadata": {
        "id": "ZIHDtrOnvfXB"
      }
    },
    {
      "cell_type": "code",
      "source": [
        "#Checking the Dataframe wherein ZIP based cohort need to be creating\n",
        "\n",
        "df.head(10)"
      ],
      "metadata": {
        "colab": {
          "base_uri": "https://localhost:8080/",
          "height": 363
        },
        "id": "7ug3Cqvzvakv",
        "outputId": "e686b742-8e70-4705-88ea-a518952632f2"
      },
      "execution_count": 52,
      "outputs": [
        {
          "output_type": "execute_result",
          "data": {
            "text/plain": [
              "                    EMAIL       ADDRESS2LINE          CITY STATE    ZIP  ZIP4  \\\n",
              "0  5vawalkers@verizon.net               York  Williamsburg    VA  23185  5360   \n",
              "1     aarena4@verizon.net       Hampton City       Hampton    VA  23666  2844   \n",
              "2   acthomas3@verizon.net  Newport News City  Newport News    VA  23608  1386   \n",
              "3         adale@nngov.com  Newport News City  Newport News    VA  23605  1931   \n",
              "4  ahunter407@verizon.net       Hampton City       Hampton    VA  23669  4245   \n",
              "5      aidamm@verizon.net       Hampton City       Hampton    VA  23666  1711   \n",
              "6  ajrachubka@verizon.net         James City  Williamsburg    VA  23188  1399   \n",
              "7   aldrichsr@verizon.net  Newport News City  Newport News    VA  23606  1992   \n",
              "8   alexchinn@verizon.net       Hampton City       Hampton    VA  23669  2295   \n",
              "9     alicemutz@ymail.com       Hampton City       Hampton    VA  23666  4802   \n",
              "\n",
              "  Bounce/Valid  \n",
              "0        valid  \n",
              "1        valid  \n",
              "2        valid  \n",
              "3        valid  \n",
              "4        valid  \n",
              "5        valid  \n",
              "6        valid  \n",
              "7        valid  \n",
              "8        valid  \n",
              "9        valid  "
            ],
            "text/html": [
              "\n",
              "  <div id=\"df-8c55805a-03d6-4967-a130-64ce08cd8153\">\n",
              "    <div class=\"colab-df-container\">\n",
              "      <div>\n",
              "<style scoped>\n",
              "    .dataframe tbody tr th:only-of-type {\n",
              "        vertical-align: middle;\n",
              "    }\n",
              "\n",
              "    .dataframe tbody tr th {\n",
              "        vertical-align: top;\n",
              "    }\n",
              "\n",
              "    .dataframe thead th {\n",
              "        text-align: right;\n",
              "    }\n",
              "</style>\n",
              "<table border=\"1\" class=\"dataframe\">\n",
              "  <thead>\n",
              "    <tr style=\"text-align: right;\">\n",
              "      <th></th>\n",
              "      <th>EMAIL</th>\n",
              "      <th>ADDRESS2LINE</th>\n",
              "      <th>CITY</th>\n",
              "      <th>STATE</th>\n",
              "      <th>ZIP</th>\n",
              "      <th>ZIP4</th>\n",
              "      <th>Bounce/Valid</th>\n",
              "    </tr>\n",
              "  </thead>\n",
              "  <tbody>\n",
              "    <tr>\n",
              "      <th>0</th>\n",
              "      <td>5vawalkers@verizon.net</td>\n",
              "      <td>York</td>\n",
              "      <td>Williamsburg</td>\n",
              "      <td>VA</td>\n",
              "      <td>23185</td>\n",
              "      <td>5360</td>\n",
              "      <td>valid</td>\n",
              "    </tr>\n",
              "    <tr>\n",
              "      <th>1</th>\n",
              "      <td>aarena4@verizon.net</td>\n",
              "      <td>Hampton City</td>\n",
              "      <td>Hampton</td>\n",
              "      <td>VA</td>\n",
              "      <td>23666</td>\n",
              "      <td>2844</td>\n",
              "      <td>valid</td>\n",
              "    </tr>\n",
              "    <tr>\n",
              "      <th>2</th>\n",
              "      <td>acthomas3@verizon.net</td>\n",
              "      <td>Newport News City</td>\n",
              "      <td>Newport News</td>\n",
              "      <td>VA</td>\n",
              "      <td>23608</td>\n",
              "      <td>1386</td>\n",
              "      <td>valid</td>\n",
              "    </tr>\n",
              "    <tr>\n",
              "      <th>3</th>\n",
              "      <td>adale@nngov.com</td>\n",
              "      <td>Newport News City</td>\n",
              "      <td>Newport News</td>\n",
              "      <td>VA</td>\n",
              "      <td>23605</td>\n",
              "      <td>1931</td>\n",
              "      <td>valid</td>\n",
              "    </tr>\n",
              "    <tr>\n",
              "      <th>4</th>\n",
              "      <td>ahunter407@verizon.net</td>\n",
              "      <td>Hampton City</td>\n",
              "      <td>Hampton</td>\n",
              "      <td>VA</td>\n",
              "      <td>23669</td>\n",
              "      <td>4245</td>\n",
              "      <td>valid</td>\n",
              "    </tr>\n",
              "    <tr>\n",
              "      <th>5</th>\n",
              "      <td>aidamm@verizon.net</td>\n",
              "      <td>Hampton City</td>\n",
              "      <td>Hampton</td>\n",
              "      <td>VA</td>\n",
              "      <td>23666</td>\n",
              "      <td>1711</td>\n",
              "      <td>valid</td>\n",
              "    </tr>\n",
              "    <tr>\n",
              "      <th>6</th>\n",
              "      <td>ajrachubka@verizon.net</td>\n",
              "      <td>James City</td>\n",
              "      <td>Williamsburg</td>\n",
              "      <td>VA</td>\n",
              "      <td>23188</td>\n",
              "      <td>1399</td>\n",
              "      <td>valid</td>\n",
              "    </tr>\n",
              "    <tr>\n",
              "      <th>7</th>\n",
              "      <td>aldrichsr@verizon.net</td>\n",
              "      <td>Newport News City</td>\n",
              "      <td>Newport News</td>\n",
              "      <td>VA</td>\n",
              "      <td>23606</td>\n",
              "      <td>1992</td>\n",
              "      <td>valid</td>\n",
              "    </tr>\n",
              "    <tr>\n",
              "      <th>8</th>\n",
              "      <td>alexchinn@verizon.net</td>\n",
              "      <td>Hampton City</td>\n",
              "      <td>Hampton</td>\n",
              "      <td>VA</td>\n",
              "      <td>23669</td>\n",
              "      <td>2295</td>\n",
              "      <td>valid</td>\n",
              "    </tr>\n",
              "    <tr>\n",
              "      <th>9</th>\n",
              "      <td>alicemutz@ymail.com</td>\n",
              "      <td>Hampton City</td>\n",
              "      <td>Hampton</td>\n",
              "      <td>VA</td>\n",
              "      <td>23666</td>\n",
              "      <td>4802</td>\n",
              "      <td>valid</td>\n",
              "    </tr>\n",
              "  </tbody>\n",
              "</table>\n",
              "</div>\n",
              "      <button class=\"colab-df-convert\" onclick=\"convertToInteractive('df-8c55805a-03d6-4967-a130-64ce08cd8153')\"\n",
              "              title=\"Convert this dataframe to an interactive table.\"\n",
              "              style=\"display:none;\">\n",
              "        \n",
              "  <svg xmlns=\"http://www.w3.org/2000/svg\" height=\"24px\"viewBox=\"0 0 24 24\"\n",
              "       width=\"24px\">\n",
              "    <path d=\"M0 0h24v24H0V0z\" fill=\"none\"/>\n",
              "    <path d=\"M18.56 5.44l.94 2.06.94-2.06 2.06-.94-2.06-.94-.94-2.06-.94 2.06-2.06.94zm-11 1L8.5 8.5l.94-2.06 2.06-.94-2.06-.94L8.5 2.5l-.94 2.06-2.06.94zm10 10l.94 2.06.94-2.06 2.06-.94-2.06-.94-.94-2.06-.94 2.06-2.06.94z\"/><path d=\"M17.41 7.96l-1.37-1.37c-.4-.4-.92-.59-1.43-.59-.52 0-1.04.2-1.43.59L10.3 9.45l-7.72 7.72c-.78.78-.78 2.05 0 2.83L4 21.41c.39.39.9.59 1.41.59.51 0 1.02-.2 1.41-.59l7.78-7.78 2.81-2.81c.8-.78.8-2.07 0-2.86zM5.41 20L4 18.59l7.72-7.72 1.47 1.35L5.41 20z\"/>\n",
              "  </svg>\n",
              "      </button>\n",
              "      \n",
              "  <style>\n",
              "    .colab-df-container {\n",
              "      display:flex;\n",
              "      flex-wrap:wrap;\n",
              "      gap: 12px;\n",
              "    }\n",
              "\n",
              "    .colab-df-convert {\n",
              "      background-color: #E8F0FE;\n",
              "      border: none;\n",
              "      border-radius: 50%;\n",
              "      cursor: pointer;\n",
              "      display: none;\n",
              "      fill: #1967D2;\n",
              "      height: 32px;\n",
              "      padding: 0 0 0 0;\n",
              "      width: 32px;\n",
              "    }\n",
              "\n",
              "    .colab-df-convert:hover {\n",
              "      background-color: #E2EBFA;\n",
              "      box-shadow: 0px 1px 2px rgba(60, 64, 67, 0.3), 0px 1px 3px 1px rgba(60, 64, 67, 0.15);\n",
              "      fill: #174EA6;\n",
              "    }\n",
              "\n",
              "    [theme=dark] .colab-df-convert {\n",
              "      background-color: #3B4455;\n",
              "      fill: #D2E3FC;\n",
              "    }\n",
              "\n",
              "    [theme=dark] .colab-df-convert:hover {\n",
              "      background-color: #434B5C;\n",
              "      box-shadow: 0px 1px 3px 1px rgba(0, 0, 0, 0.15);\n",
              "      filter: drop-shadow(0px 1px 2px rgba(0, 0, 0, 0.3));\n",
              "      fill: #FFFFFF;\n",
              "    }\n",
              "  </style>\n",
              "\n",
              "      <script>\n",
              "        const buttonEl =\n",
              "          document.querySelector('#df-8c55805a-03d6-4967-a130-64ce08cd8153 button.colab-df-convert');\n",
              "        buttonEl.style.display =\n",
              "          google.colab.kernel.accessAllowed ? 'block' : 'none';\n",
              "\n",
              "        async function convertToInteractive(key) {\n",
              "          const element = document.querySelector('#df-8c55805a-03d6-4967-a130-64ce08cd8153');\n",
              "          const dataTable =\n",
              "            await google.colab.kernel.invokeFunction('convertToInteractive',\n",
              "                                                     [key], {});\n",
              "          if (!dataTable) return;\n",
              "\n",
              "          const docLinkHtml = 'Like what you see? Visit the ' +\n",
              "            '<a target=\"_blank\" href=https://colab.research.google.com/notebooks/data_table.ipynb>data table notebook</a>'\n",
              "            + ' to learn more about interactive tables.';\n",
              "          element.innerHTML = '';\n",
              "          dataTable['output_type'] = 'display_data';\n",
              "          await google.colab.output.renderOutput(dataTable, element);\n",
              "          const docLink = document.createElement('div');\n",
              "          docLink.innerHTML = docLinkHtml;\n",
              "          element.appendChild(docLink);\n",
              "        }\n",
              "      </script>\n",
              "    </div>\n",
              "  </div>\n",
              "  "
            ]
          },
          "metadata": {},
          "execution_count": 52
        }
      ]
    },
    {
      "cell_type": "code",
      "source": [
        "#checking data types\n",
        "\n",
        "df.info()"
      ],
      "metadata": {
        "colab": {
          "base_uri": "https://localhost:8080/"
        },
        "id": "g0kcls2SwK8y",
        "outputId": "65b1c0a7-eae7-4e39-bfe2-2aa09150a54c"
      },
      "execution_count": 31,
      "outputs": [
        {
          "output_type": "stream",
          "name": "stdout",
          "text": [
            "<class 'pandas.core.frame.DataFrame'>\n",
            "RangeIndex: 99 entries, 0 to 98\n",
            "Data columns (total 7 columns):\n",
            " #   Column        Non-Null Count  Dtype \n",
            "---  ------        --------------  ----- \n",
            " 0   EMAIL         99 non-null     object\n",
            " 1   ADDRESS2LINE  99 non-null     object\n",
            " 2   CITY          99 non-null     object\n",
            " 3   STATE         99 non-null     object\n",
            " 4   ZIP           99 non-null     int64 \n",
            " 5   ZIP4          99 non-null     int64 \n",
            " 6   Bounce/Valid  99 non-null     object\n",
            "dtypes: int64(2), object(5)\n",
            "memory usage: 5.5+ KB\n"
          ]
        }
      ]
    },
    {
      "cell_type": "code",
      "source": [
        "# #converting data type of ZIP column from Integer to String for further operations \n",
        "df.ZIP = df.ZIP.astype(\"string\")"
      ],
      "metadata": {
        "id": "fXYGuiwIvxfg"
      },
      "execution_count": 33,
      "outputs": []
    },
    {
      "cell_type": "code",
      "source": [
        "#asssigning a variable \"column\" for the column that we will make a batch of from the dataframe\n",
        "column = \"ZIP\"   \n",
        "unique_values=df[column].unique() #getting unique values from the ZIP column\n",
        "print(unique_values) "
      ],
      "metadata": {
        "colab": {
          "base_uri": "https://localhost:8080/"
        },
        "id": "vqNN4jYkw_23",
        "outputId": "90220c40-7e23-4744-ef14-3b3b618a4c98"
      },
      "execution_count": 35,
      "outputs": [
        {
          "output_type": "stream",
          "name": "stdout",
          "text": [
            "<StringArray>\n",
            "['23185', '23666', '23608', '23605', '23669', '23188', '23606', '23662',\n",
            " '23601', '23661', '23663', '23607', '23602', '23168', '23690', '23664',\n",
            " '23693', '23692']\n",
            "Length: 18, dtype: string\n"
          ]
        }
      ]
    },
    {
      "cell_type": "code",
      "source": [
        "#iterator will take each unique ZIP value to access the column and separate it with contains method\n",
        "for i in unique_values:\n",
        "    df_op = df[df[column].str.contains(i)]\n",
        "\n",
        "    df_op.to_csv(\"zip \"+i+'.csv')   #for every unique ZIP an CSV or Excel file can be exported"
      ],
      "metadata": {
        "id": "n6Mr8jdRxDmg"
      },
      "execution_count": 51,
      "outputs": []
    }
  ]
}